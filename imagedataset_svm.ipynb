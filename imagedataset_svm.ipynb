{
 "cells": [
  {
   "cell_type": "code",
   "execution_count": 2,
   "id": "a0fd2b62",
   "metadata": {},
   "outputs": [],
   "source": [
    "import os\n",
    "import pathlib\n",
    "import pickle\n",
    "import random\n",
    "import numpy as np\n",
    "import pandas as pd\n",
    "import tensorflow as tf\n",
    "from sklearn.svm import SVC\n",
    "from PIL import Image, ImageOps\n",
    "from IPython.display import display\n",
    "from sklearn.utils import shuffle\n",
    "from sklearn.model_selection import train_test_split\n",
    "import warnings\n",
    "os.environ['TF_CPP_MIN_LOG_LEVEL'] = '2' \n",
    "warnings.filterwarnings('ignore')"
   ]
  },
  {
   "cell_type": "code",
   "execution_count": 3,
   "id": "4720ca55",
   "metadata": {},
   "outputs": [],
   "source": [
    "def process_image(img_path: str) -> np.array:\n",
    "    img = Image.open(img_path)\n",
    "    img = ImageOps.grayscale(img)\n",
    "    img = img.resize(size=(96, 96))\n",
    "    img = np.ravel(img) / 255.0 # flaten the img to make computer deal with\n",
    "    return img"
   ]
  },
  {
   "cell_type": "code",
   "execution_count": 4,
   "id": "70d547fd",
   "metadata": {},
   "outputs": [],
   "source": [
    "def process_folder(folder: pathlib.PosixPath) -> pd.DataFrame:\n",
    "    # We'll store the images here\n",
    "    processed = []\n",
    "    \n",
    "    # For every image in the directory\n",
    "    for img in folder.iterdir():\n",
    "        # Ensure JPG\n",
    "        if img.suffix == '.jpg':\n",
    "           \n",
    "            try:\n",
    "                processed.append(process_image(img_path=str(img)))\n",
    "            except Exception as _:\n",
    "                continue\n",
    "           \n",
    "    # Convert to pd.DataFrame\n",
    "    processed = pd.DataFrame(processed)\n",
    "    # Add a class column - dog or a cat\n",
    "    processed['class'] = folder.parts[-1]\n",
    "    \n",
    "    return processed"
   ]
  },
  {
   "cell_type": "code",
   "execution_count": 6,
   "id": "77a6dd68",
   "metadata": {},
   "outputs": [],
   "source": [
    "train_cat = process_folder(folder=pathlib.Path.cwd().joinpath(r'D:\\study\\grade 3\\1st term\\Selected 1\\project\\imgsvm\\pets\\PetImages\\cat'))\n",
    "train_dog = process_folder(folder=pathlib.Path.cwd().joinpath(r'D:\\study\\grade 3\\1st term\\Selected 1\\project\\imgsvm\\pets\\PetImages\\dog'))\n",
    "df = pd.concat([train_cat, train_dog], axis=0)\n",
    "\n",
    "with open('train_set.pkl','wb') as f:\n",
    "    pickle.dump(df,f)"
   ]
  },
  {
   "cell_type": "code",
   "execution_count": 7,
   "id": "df88557e",
   "metadata": {},
   "outputs": [
    {
     "data": {
      "text/plain": [
       "<bound method DataFrame.info of              0         1         2         3         4         5         6  \\\n",
       "0     0.662745  0.678431  0.698039  0.713725  0.725490  0.737255  0.749020   \n",
       "1     0.164706  0.164706  0.200000  0.168627  0.180392  0.160784  0.168627   \n",
       "2     0.133333  0.125490  0.172549  0.176471  0.180392  0.211765  0.223529   \n",
       "3     0.870588  0.874510  0.870588  0.886275  0.894118  0.882353  0.894118   \n",
       "4     0.435294  0.458824  0.494118  0.345098  0.274510  0.415686  0.533333   \n",
       "...        ...       ...       ...       ...       ...       ...       ...   \n",
       "6996  0.274510  0.282353  0.286275  0.286275  0.286275  0.286275  0.282353   \n",
       "6997  0.149020  0.145098  0.156863  0.145098  0.117647  0.164706  0.184314   \n",
       "6998  0.596078  0.666667  0.603922  0.556863  0.600000  0.631373  0.580392   \n",
       "6999  0.305882  0.309804  0.313725  0.317647  0.325490  0.329412  0.333333   \n",
       "7000  0.537255  0.556863  0.592157  0.596078  0.549020  0.674510  0.666667   \n",
       "\n",
       "             7         8         9  ...      9207      9208      9209  \\\n",
       "0     0.760784  0.772549  0.780392  ...  0.007843  0.011765  0.007843   \n",
       "1     0.156863  0.172549  0.184314  ...  0.188235  0.207843  0.219608   \n",
       "2     0.219608  0.215686  0.215686  ...  0.631373  0.596078  0.513725   \n",
       "3     0.909804  0.898039  0.894118  ...  0.854902  0.796078  0.800000   \n",
       "4     0.545098  0.713725  0.580392  ...  0.364706  0.384314  0.368627   \n",
       "...        ...       ...       ...  ...       ...       ...       ...   \n",
       "6996  0.282353  0.278431  0.282353  ...  0.290196  0.274510  0.286275   \n",
       "6997  0.203922  0.211765  0.223529  ...  0.772549  0.752941  0.741176   \n",
       "6998  0.498039  0.568627  0.576471  ...  0.509804  0.525490  0.517647   \n",
       "6999  0.337255  0.337255  0.345098  ...  0.243137  0.294118  0.407843   \n",
       "7000  0.643137  0.654902  0.635294  ...  0.870588  0.878431  0.878431   \n",
       "\n",
       "          9210      9211      9212      9213      9214      9215  class  \n",
       "0     0.007843  0.007843  0.007843  0.007843  0.007843  0.007843    cat  \n",
       "1     0.215686  0.250980  0.286275  0.266667  0.145098  0.141176    cat  \n",
       "2     0.509804  0.556863  0.611765  0.658824  0.670588  0.603922    cat  \n",
       "3     0.803922  0.835294  0.866667  0.850980  0.831373  0.835294    cat  \n",
       "4     0.368627  0.450980  0.396078  0.349020  0.364706  0.325490    cat  \n",
       "...        ...       ...       ...       ...       ...       ...    ...  \n",
       "6996  0.270588  0.262745  0.274510  0.266667  0.270588  0.274510    dog  \n",
       "6997  0.749020  0.776471  0.780392  0.768627  0.760784  0.760784    dog  \n",
       "6998  0.533333  0.592157  0.564706  0.627451  0.478431  0.423529    dog  \n",
       "6999  0.462745  0.443137  0.400000  0.388235  0.384314  0.384314    dog  \n",
       "7000  0.874510  0.870588  0.858824  0.827451  0.760784  0.749020    dog  \n",
       "\n",
       "[14001 rows x 9217 columns]>"
      ]
     },
     "execution_count": 7,
     "metadata": {},
     "output_type": "execute_result"
    }
   ],
   "source": [
    "df.info"
   ]
  },
  {
   "cell_type": "code",
   "execution_count": 8,
   "id": "3d446d76",
   "metadata": {},
   "outputs": [],
   "source": [
    "df=shuffle(df).reset_index(drop=True)\n",
    "#valid_set=shuffle(valid_set).reset_index(drop=True)"
   ]
  },
  {
   "cell_type": "code",
   "execution_count": 9,
   "id": "6bdc56a7",
   "metadata": {
    "scrolled": true
   },
   "outputs": [
    {
     "data": {
      "text/html": [
       "<div>\n",
       "<style scoped>\n",
       "    .dataframe tbody tr th:only-of-type {\n",
       "        vertical-align: middle;\n",
       "    }\n",
       "\n",
       "    .dataframe tbody tr th {\n",
       "        vertical-align: top;\n",
       "    }\n",
       "\n",
       "    .dataframe thead th {\n",
       "        text-align: right;\n",
       "    }\n",
       "</style>\n",
       "<table border=\"1\" class=\"dataframe\">\n",
       "  <thead>\n",
       "    <tr style=\"text-align: right;\">\n",
       "      <th></th>\n",
       "      <th>0</th>\n",
       "      <th>1</th>\n",
       "      <th>2</th>\n",
       "      <th>3</th>\n",
       "      <th>4</th>\n",
       "      <th>5</th>\n",
       "      <th>6</th>\n",
       "      <th>7</th>\n",
       "      <th>8</th>\n",
       "      <th>9</th>\n",
       "      <th>...</th>\n",
       "      <th>9207</th>\n",
       "      <th>9208</th>\n",
       "      <th>9209</th>\n",
       "      <th>9210</th>\n",
       "      <th>9211</th>\n",
       "      <th>9212</th>\n",
       "      <th>9213</th>\n",
       "      <th>9214</th>\n",
       "      <th>9215</th>\n",
       "      <th>class</th>\n",
       "    </tr>\n",
       "  </thead>\n",
       "  <tbody>\n",
       "    <tr>\n",
       "      <th>0</th>\n",
       "      <td>0.949020</td>\n",
       "      <td>0.996078</td>\n",
       "      <td>0.996078</td>\n",
       "      <td>0.996078</td>\n",
       "      <td>0.996078</td>\n",
       "      <td>0.996078</td>\n",
       "      <td>1.000000</td>\n",
       "      <td>1.000000</td>\n",
       "      <td>1.000000</td>\n",
       "      <td>1.000000</td>\n",
       "      <td>...</td>\n",
       "      <td>0.462745</td>\n",
       "      <td>0.423529</td>\n",
       "      <td>0.400000</td>\n",
       "      <td>0.411765</td>\n",
       "      <td>0.364706</td>\n",
       "      <td>0.360784</td>\n",
       "      <td>0.321569</td>\n",
       "      <td>0.258824</td>\n",
       "      <td>0.192157</td>\n",
       "      <td>cat</td>\n",
       "    </tr>\n",
       "    <tr>\n",
       "      <th>1</th>\n",
       "      <td>0.419608</td>\n",
       "      <td>0.419608</td>\n",
       "      <td>0.415686</td>\n",
       "      <td>0.435294</td>\n",
       "      <td>0.427451</td>\n",
       "      <td>0.435294</td>\n",
       "      <td>0.431373</td>\n",
       "      <td>0.447059</td>\n",
       "      <td>0.450980</td>\n",
       "      <td>0.439216</td>\n",
       "      <td>...</td>\n",
       "      <td>0.525490</td>\n",
       "      <td>0.521569</td>\n",
       "      <td>0.525490</td>\n",
       "      <td>0.521569</td>\n",
       "      <td>0.513725</td>\n",
       "      <td>0.521569</td>\n",
       "      <td>0.513725</td>\n",
       "      <td>0.513725</td>\n",
       "      <td>0.525490</td>\n",
       "      <td>cat</td>\n",
       "    </tr>\n",
       "    <tr>\n",
       "      <th>2</th>\n",
       "      <td>0.086275</td>\n",
       "      <td>0.090196</td>\n",
       "      <td>0.105882</td>\n",
       "      <td>0.160784</td>\n",
       "      <td>0.176471</td>\n",
       "      <td>0.152941</td>\n",
       "      <td>0.113725</td>\n",
       "      <td>0.086275</td>\n",
       "      <td>0.090196</td>\n",
       "      <td>0.086275</td>\n",
       "      <td>...</td>\n",
       "      <td>0.305882</td>\n",
       "      <td>0.149020</td>\n",
       "      <td>0.137255</td>\n",
       "      <td>0.129412</td>\n",
       "      <td>0.125490</td>\n",
       "      <td>0.117647</td>\n",
       "      <td>0.141176</td>\n",
       "      <td>0.270588</td>\n",
       "      <td>0.317647</td>\n",
       "      <td>cat</td>\n",
       "    </tr>\n",
       "    <tr>\n",
       "      <th>3</th>\n",
       "      <td>0.219608</td>\n",
       "      <td>0.223529</td>\n",
       "      <td>0.223529</td>\n",
       "      <td>0.235294</td>\n",
       "      <td>0.231373</td>\n",
       "      <td>0.235294</td>\n",
       "      <td>0.231373</td>\n",
       "      <td>0.239216</td>\n",
       "      <td>0.227451</td>\n",
       "      <td>0.243137</td>\n",
       "      <td>...</td>\n",
       "      <td>0.674510</td>\n",
       "      <td>0.482353</td>\n",
       "      <td>0.368627</td>\n",
       "      <td>0.384314</td>\n",
       "      <td>0.403922</td>\n",
       "      <td>0.431373</td>\n",
       "      <td>0.364706</td>\n",
       "      <td>0.384314</td>\n",
       "      <td>0.396078</td>\n",
       "      <td>dog</td>\n",
       "    </tr>\n",
       "    <tr>\n",
       "      <th>4</th>\n",
       "      <td>0.372549</td>\n",
       "      <td>0.639216</td>\n",
       "      <td>0.647059</td>\n",
       "      <td>0.592157</td>\n",
       "      <td>0.427451</td>\n",
       "      <td>0.392157</td>\n",
       "      <td>0.427451</td>\n",
       "      <td>0.396078</td>\n",
       "      <td>0.345098</td>\n",
       "      <td>0.650980</td>\n",
       "      <td>...</td>\n",
       "      <td>0.705882</td>\n",
       "      <td>0.772549</td>\n",
       "      <td>0.650980</td>\n",
       "      <td>0.686275</td>\n",
       "      <td>0.756863</td>\n",
       "      <td>0.509804</td>\n",
       "      <td>0.635294</td>\n",
       "      <td>0.498039</td>\n",
       "      <td>0.639216</td>\n",
       "      <td>dog</td>\n",
       "    </tr>\n",
       "  </tbody>\n",
       "</table>\n",
       "<p>5 rows × 9217 columns</p>\n",
       "</div>"
      ],
      "text/plain": [
       "          0         1         2         3         4         5         6  \\\n",
       "0  0.949020  0.996078  0.996078  0.996078  0.996078  0.996078  1.000000   \n",
       "1  0.419608  0.419608  0.415686  0.435294  0.427451  0.435294  0.431373   \n",
       "2  0.086275  0.090196  0.105882  0.160784  0.176471  0.152941  0.113725   \n",
       "3  0.219608  0.223529  0.223529  0.235294  0.231373  0.235294  0.231373   \n",
       "4  0.372549  0.639216  0.647059  0.592157  0.427451  0.392157  0.427451   \n",
       "\n",
       "          7         8         9  ...      9207      9208      9209      9210  \\\n",
       "0  1.000000  1.000000  1.000000  ...  0.462745  0.423529  0.400000  0.411765   \n",
       "1  0.447059  0.450980  0.439216  ...  0.525490  0.521569  0.525490  0.521569   \n",
       "2  0.086275  0.090196  0.086275  ...  0.305882  0.149020  0.137255  0.129412   \n",
       "3  0.239216  0.227451  0.243137  ...  0.674510  0.482353  0.368627  0.384314   \n",
       "4  0.396078  0.345098  0.650980  ...  0.705882  0.772549  0.650980  0.686275   \n",
       "\n",
       "       9211      9212      9213      9214      9215  class  \n",
       "0  0.364706  0.360784  0.321569  0.258824  0.192157    cat  \n",
       "1  0.513725  0.521569  0.513725  0.513725  0.525490    cat  \n",
       "2  0.125490  0.117647  0.141176  0.270588  0.317647    cat  \n",
       "3  0.403922  0.431373  0.364706  0.384314  0.396078    dog  \n",
       "4  0.756863  0.509804  0.635294  0.498039  0.639216    dog  \n",
       "\n",
       "[5 rows x 9217 columns]"
      ]
     },
     "execution_count": 9,
     "metadata": {},
     "output_type": "execute_result"
    }
   ],
   "source": [
    "df.head()"
   ]
  },
  {
   "cell_type": "code",
   "execution_count": 11,
   "id": "7b246174",
   "metadata": {},
   "outputs": [],
   "source": [
    "X = df.loc[:, df.columns!='class']\n",
    "Y = df['class']"
   ]
  },
  {
   "cell_type": "code",
   "execution_count": 12,
   "id": "22ac2690",
   "metadata": {},
   "outputs": [
    {
     "data": {
      "text/plain": [
       "0        cat\n",
       "1        cat\n",
       "2        cat\n",
       "3        dog\n",
       "4        dog\n",
       "        ... \n",
       "13996    cat\n",
       "13997    dog\n",
       "13998    dog\n",
       "13999    dog\n",
       "14000    dog\n",
       "Name: class, Length: 14001, dtype: object"
      ]
     },
     "execution_count": 12,
     "metadata": {},
     "output_type": "execute_result"
    }
   ],
   "source": [
    "Y"
   ]
  },
  {
   "cell_type": "code",
   "execution_count": 13,
   "id": "e77d91b6",
   "metadata": {},
   "outputs": [],
   "source": [
    "X_train, X_test, y_train, y_test = train_test_split( X, Y, test_size=0.15, shuffle=True,random_state=42)"
   ]
  },
  {
   "cell_type": "code",
   "execution_count": 14,
   "id": "a2a1b45a",
   "metadata": {},
   "outputs": [],
   "source": [
    "X_train, X_val, y_train, y_val = train_test_split( X, Y, test_size=0.15, shuffle=True,random_state=42)"
   ]
  },
  {
   "cell_type": "code",
   "execution_count": 15,
   "id": "8a730b1b",
   "metadata": {},
   "outputs": [
    {
     "data": {
      "text/plain": [
       "10767    cat\n",
       "12118    dog\n",
       "3728     cat\n",
       "1166     dog\n",
       "8962     cat\n",
       "        ... \n",
       "5191     dog\n",
       "13418    cat\n",
       "5390     cat\n",
       "860      dog\n",
       "7270     dog\n",
       "Name: class, Length: 11900, dtype: object"
      ]
     },
     "execution_count": 15,
     "metadata": {},
     "output_type": "execute_result"
    }
   ],
   "source": [
    "y_train"
   ]
  },
  {
   "cell_type": "code",
   "execution_count": null,
   "id": "f69a7b85",
   "metadata": {},
   "outputs": [],
   "source": [
    "# from sklearn.svm import SVC\n",
    "# svm = SVC(C=100, gamma='auto')\n",
    "# svm.fit(X_train , y_train)\n",
    "# y_pred=svm.predict(X_test)"
   ]
  },
  {
   "cell_type": "code",
   "execution_count": 16,
   "id": "d16693ef",
   "metadata": {},
   "outputs": [],
   "source": [
    "from sklearn.svm import SVC\n",
    "svm = SVC(C=100, gamma='auto')\n",
    "svm.fit(X_train , y_train)\n",
    "y_pred=svm.predict(X_val)"
   ]
  },
  {
   "cell_type": "code",
   "execution_count": 17,
   "id": "85c86903",
   "metadata": {},
   "outputs": [
    {
     "name": "stdout",
     "output_type": "stream",
     "text": [
      "Wall time: 191 ms\n"
     ]
    },
    {
     "data": {
      "text/plain": [
       "0.6149452641599239"
      ]
     },
     "execution_count": 17,
     "metadata": {},
     "output_type": "execute_result"
    }
   ],
   "source": [
    "%%time\n",
    "from sklearn.metrics import accuracy_score\n",
    "accuracy_score(y_val , y_pred)"
   ]
  },
  {
   "cell_type": "code",
   "execution_count": 18,
   "id": "398f9530",
   "metadata": {},
   "outputs": [
    {
     "data": {
      "text/plain": [
       "array([[635, 398],\n",
       "       [411, 657]], dtype=int64)"
      ]
     },
     "execution_count": 18,
     "metadata": {},
     "output_type": "execute_result"
    }
   ],
   "source": [
    "from sklearn.metrics import classification_report, plot_confusion_matrix,plot_roc_curve\n",
    "from sklearn.metrics import confusion_matrix\n",
    "cm = confusion_matrix(y_val,y_pred)\n",
    "cm"
   ]
  },
  {
   "cell_type": "code",
   "execution_count": 20,
   "id": "480d1798",
   "metadata": {},
   "outputs": [
    {
     "name": "stdout",
     "output_type": "stream",
     "text": [
      "Wall time: 73.9 ms\n"
     ]
    },
    {
     "data": {
      "text/plain": [
       "[Text(0, 0.5, 'False'), Text(0, 1.5, 'True')]"
      ]
     },
     "execution_count": 20,
     "metadata": {},
     "output_type": "execute_result"
    },
    {
     "data": {
      "image/png": "[encoded data removed]",
      "text/plain": [
       "<Figure size 432x288 with 2 Axes>"
      ]
     },
     "metadata": {
      "needs_background": "light"
     },
     "output_type": "display_data"
    }
   ],
   "source": [
    "%%time\n",
    "import seaborn as sns\n",
    "\n",
    "ax = sns.heatmap(cm, annot=True, cmap='Blues')\n",
    "\n",
    "ax.set_title('Seaborn Confusion Matrix with labels\\n\\n');\n",
    "ax.set_xlabel('\\nPredicted Values')\n",
    "ax.set_ylabel('Actual Values ');\n",
    "\n",
    "ax.xaxis.set_ticklabels(['False','True'])\n",
    "ax.yaxis.set_ticklabels(['False','True'])"
   ]
  },
  {
   "cell_type": "code",
   "execution_count": null,
   "id": "0c2add5b",
   "metadata": {},
   "outputs": [],
   "source": [
    "%%time\n",
    "import numpy as np\n",
    "import matplotlib.pyplot as plt\n",
    "from sklearn.ensemble import RandomForestClassifier\n",
    "from sklearn import datasets\n",
    "from sklearn.model_selection import learning_curve\n",
    "train_sizes, train_scores, test_scores, fit_times, _ = learning_curve(svm, X, Y, cv=30,return_times=True)\n",
    "plt.plot(train_sizes,np.mean(train_scores,axis=1))"
   ]
  },
  {
   "cell_type": "code",
   "execution_count": null,
   "id": "d954b587",
   "metadata": {},
   "outputs": [],
   "source": [
    "from sklearn.metrics import roc_curve, auc\n",
    "import matplotlib.pyplot as plt\n",
    "fig=plot_roc_curve(svm,X_val,y_val)\n",
    "plt.title(\"ROC CURVE\")\n",
    "plt.show()"
   ]
  },
  {
   "cell_type": "code",
   "execution_count": null,
   "id": "0267accd",
   "metadata": {},
   "outputs": [],
   "source": [
    "%%time\n",
    "y_pred_test=svm.predict(X_test)"
   ]
  },
  {
   "cell_type": "code",
   "execution_count": null,
   "id": "8f84c6ec",
   "metadata": {},
   "outputs": [],
   "source": [
    "%%time\n",
    "from sklearn.metrics import accuracy_score\n",
    "accuracy_score(y_test , y_pred_test)"
   ]
  },
  {
   "cell_type": "code",
   "execution_count": null,
   "id": "fc751bdf",
   "metadata": {},
   "outputs": [],
   "source": []
  }
 ],
 "metadata": {
  "kernelspec": {
   "display_name": "Python 3 (ipykernel)",
   "language": "python",
   "name": "python3"
  },
  "language_info": {
   "codemirror_mode": {
    "name": "ipython",
    "version": 3
   },
   "file_extension": ".py",
   "mimetype": "text/x-python",
   "name": "python",
   "nbconvert_exporter": "python",
   "pygments_lexer": "ipython3",
   "version": "3.9.7"
  }
 },
 "nbformat": 4,
 "nbformat_minor": 5
}
